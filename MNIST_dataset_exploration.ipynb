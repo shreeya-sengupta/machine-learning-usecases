{
  "nbformat": 4,
  "nbformat_minor": 0,
  "metadata": {
    "colab": {
      "name": "MNIST-dataset-exploration.ipynb",
      "provenance": []
    },
    "kernelspec": {
      "name": "python3",
      "display_name": "Python 3"
    },
    "accelerator": "GPU"
  },
  "cells": [
    {
      "cell_type": "code",
      "metadata": {
        "id": "uyngyzTglEl2",
        "colab_type": "code",
        "colab": {}
      },
      "source": [
        "import torch\n",
        "import torchvision\n",
        "from torchvision import transforms, datasets\n"
      ],
      "execution_count": 1,
      "outputs": []
    },
    {
      "cell_type": "code",
      "metadata": {
        "id": "GNT1FqdBa_Eg",
        "colab_type": "code",
        "colab": {}
      },
      "source": [
        "train = datasets.MNIST(\"\", train=True, download=True,\n",
        "                       transform=transforms.Compose([transforms.ToTensor()]))\n",
        "\n",
        "test = datasets.MNIST(\"\", train=False, download=True,\n",
        "                      transform=transforms.Compose([transforms.ToTensor()]))"
      ],
      "execution_count": 2,
      "outputs": []
    },
    {
      "cell_type": "markdown",
      "metadata": {
        "id": "7BaEIi0ccoDM",
        "colab_type": "text"
      },
      "source": [
        "Create Dataloader"
      ]
    },
    {
      "cell_type": "code",
      "metadata": {
        "id": "Eg9Jb9lhcr9l",
        "colab_type": "code",
        "colab": {}
      },
      "source": [
        "train_data = torch.utils.data.DataLoader(train, batch_size=10, shuffle=True)\n",
        "\n",
        "test_data = torch.utils.data.DataLoader(test, batch_size=10, shuffle=False)"
      ],
      "execution_count": 3,
      "outputs": []
    },
    {
      "cell_type": "markdown",
      "metadata": {
        "id": "vDP3Vz_8egyL",
        "colab_type": "text"
      },
      "source": [
        "Build the neural network"
      ]
    },
    {
      "cell_type": "code",
      "metadata": {
        "id": "l1a3dK8KdInS",
        "colab_type": "code",
        "colab": {
          "base_uri": "https://localhost:8080/",
          "height": 119
        },
        "outputId": "1be2c173-42d5-4951-d65c-b31339404763"
      },
      "source": [
        "import torch.nn as nn\n",
        "import torch.nn.functional as F\n",
        "\n",
        "class Net(nn.Module):\n",
        "  def __init__(self):\n",
        "    super().__init__()\n",
        "    self.fc1 = nn.Linear(784, 64)\n",
        "    self.fc2 = nn.Linear(64, 64)\n",
        "    self.fc3 = nn.Linear(64, 64)\n",
        "    self.fc4 = nn.Linear(64, 10)\n",
        "\n",
        "  def forward(self, x):\n",
        "    x = F.relu(self.fc1(x))\n",
        "    x = F.relu(self.fc2(x))\n",
        "    x = F.relu(self.fc3(x))\n",
        "    x = F.relu(self.fc4(x))\n",
        "\n",
        "    return F.log_softmax(x,dim=1)\n",
        "\n",
        "net = Net()\n",
        "print(net)"
      ],
      "execution_count": 4,
      "outputs": [
        {
          "output_type": "stream",
          "text": [
            "Net(\n",
            "  (fc1): Linear(in_features=784, out_features=64, bias=True)\n",
            "  (fc2): Linear(in_features=64, out_features=64, bias=True)\n",
            "  (fc3): Linear(in_features=64, out_features=64, bias=True)\n",
            "  (fc4): Linear(in_features=64, out_features=10, bias=True)\n",
            ")\n"
          ],
          "name": "stdout"
        }
      ]
    },
    {
      "cell_type": "code",
      "metadata": {
        "id": "y9IXHBLcfc-G",
        "colab_type": "code",
        "colab": {}
      },
      "source": [
        "import torch.optim as optim\n",
        "optimiser = optim.Adam(net.parameters(), lr=0.0001)\n",
        "EPOCHS = 6"
      ],
      "execution_count": 5,
      "outputs": []
    },
    {
      "cell_type": "code",
      "metadata": {
        "id": "TFXv3Ymik-yS",
        "colab_type": "code",
        "colab": {
          "base_uri": "https://localhost:8080/",
          "height": 119
        },
        "outputId": "a7a4fdfb-d03f-40fd-ec86-f9ef39e5b6bb"
      },
      "source": [
        "for epoch in range(EPOCHS):\n",
        "  for data in train_data:\n",
        "    #print(data)\n",
        "    X, y = data\n",
        "    net.zero_grad()\n",
        "    output = net(X.view(-1, 28*28))\n",
        "    loss = F.nll_loss(output, y)\n",
        "    loss.backward()\n",
        "    optimiser.step()\n",
        "  print(loss)"
      ],
      "execution_count": 6,
      "outputs": [
        {
          "output_type": "stream",
          "text": [
            "tensor(0.5391, grad_fn=<NllLossBackward>)\n",
            "tensor(1.7884, grad_fn=<NllLossBackward>)\n",
            "tensor(0.4921, grad_fn=<NllLossBackward>)\n",
            "tensor(0.2955, grad_fn=<NllLossBackward>)\n",
            "tensor(0.4953, grad_fn=<NllLossBackward>)\n",
            "tensor(0.0675, grad_fn=<NllLossBackward>)\n"
          ],
          "name": "stdout"
        }
      ]
    },
    {
      "cell_type": "markdown",
      "metadata": {
        "id": "TqVxqHEhn4UK",
        "colab_type": "text"
      },
      "source": [
        "Testing the network"
      ]
    },
    {
      "cell_type": "code",
      "metadata": {
        "id": "vwcGk8men63Q",
        "colab_type": "code",
        "colab": {}
      },
      "source": [
        "correct = 0\n",
        "total = 0\n",
        "\n",
        "with torch.no_grad():\n",
        "  for t_data in test_data:\n",
        "    X_test, y_test = t_data\n",
        "    # invoke the model with the test data X\n",
        "\n",
        "    output_test = net(X_test.view(-1, 784))\n",
        "    #print(output)\n",
        "\n",
        "    for index, i in enumerate(output_test):\n",
        "      if torch.argmax(i) == y_test[index]:\n",
        "        correct +=1\n",
        "      total +=1"
      ],
      "execution_count": 7,
      "outputs": []
    },
    {
      "cell_type": "code",
      "metadata": {
        "id": "HAB0SybgoHw0",
        "colab_type": "code",
        "colab": {
          "base_uri": "https://localhost:8080/",
          "height": 68
        },
        "outputId": "56e44697-9d24-4bcf-d106-f08b21fef5bd"
      },
      "source": [
        "print(correct)\n",
        "print(total)\n",
        "accuracy = (correct/total)*100\n",
        "print(f\"Accuracy: {accuracy}\")"
      ],
      "execution_count": 8,
      "outputs": [
        {
          "output_type": "stream",
          "text": [
            "7542\n",
            "10000\n",
            "Accuracy: 75.42\n"
          ],
          "name": "stdout"
        }
      ]
    }
  ]
}